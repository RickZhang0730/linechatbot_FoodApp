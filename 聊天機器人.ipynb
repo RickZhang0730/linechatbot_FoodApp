{
 "cells": [
  {
   "cell_type": "markdown",
   "metadata": {
    "id": "_bnpmCfLTHva"
   },
   "source": [
    "連結伺服器與基本套件"
   ]
  },
  {
   "cell_type": "code",
   "execution_count": null,
   "metadata": {
    "colab": {
     "base_uri": "https://localhost:8080/"
    },
    "id": "jJRplFuuTCIY",
    "outputId": "fab74140-105b-43a7-b104-f774db9217d0"
   },
   "outputs": [
    {
     "name": "stdout",
     "output_type": "stream",
     "text": [
      "Requirement already satisfied: line-bot-sdk in /usr/local/lib/python3.7/dist-packages (1.19.0)\n",
      "Requirement already satisfied: future in /usr/local/lib/python3.7/dist-packages (from line-bot-sdk) (0.16.0)\n",
      "Requirement already satisfied: requests>=2.0 in /usr/local/lib/python3.7/dist-packages (from line-bot-sdk) (2.23.0)\n",
      "Requirement already satisfied: certifi>=2017.4.17 in /usr/local/lib/python3.7/dist-packages (from requests>=2.0->line-bot-sdk) (2020.12.5)\n",
      "Requirement already satisfied: idna<3,>=2.5 in /usr/local/lib/python3.7/dist-packages (from requests>=2.0->line-bot-sdk) (2.10)\n",
      "Requirement already satisfied: urllib3!=1.25.0,!=1.25.1,<1.26,>=1.21.1 in /usr/local/lib/python3.7/dist-packages (from requests>=2.0->line-bot-sdk) (1.24.3)\n",
      "Requirement already satisfied: chardet<4,>=3.0.2 in /usr/local/lib/python3.7/dist-packages (from requests>=2.0->line-bot-sdk) (3.0.4)\n",
      "Requirement already satisfied: flask-ngrok in /usr/local/lib/python3.7/dist-packages (0.0.25)\n",
      "Requirement already satisfied: Flask>=0.8 in /usr/local/lib/python3.7/dist-packages (from flask-ngrok) (1.1.4)\n",
      "Requirement already satisfied: requests in /usr/local/lib/python3.7/dist-packages (from flask-ngrok) (2.23.0)\n",
      "Requirement already satisfied: Werkzeug<2.0,>=0.15 in /usr/local/lib/python3.7/dist-packages (from Flask>=0.8->flask-ngrok) (1.0.1)\n",
      "Requirement already satisfied: itsdangerous<2.0,>=0.24 in /usr/local/lib/python3.7/dist-packages (from Flask>=0.8->flask-ngrok) (1.1.0)\n",
      "Requirement already satisfied: click<8.0,>=5.1 in /usr/local/lib/python3.7/dist-packages (from Flask>=0.8->flask-ngrok) (7.1.2)\n",
      "Requirement already satisfied: Jinja2<3.0,>=2.10.1 in /usr/local/lib/python3.7/dist-packages (from Flask>=0.8->flask-ngrok) (2.11.3)\n",
      "Requirement already satisfied: certifi>=2017.4.17 in /usr/local/lib/python3.7/dist-packages (from requests->flask-ngrok) (2020.12.5)\n",
      "Requirement already satisfied: urllib3!=1.25.0,!=1.25.1,<1.26,>=1.21.1 in /usr/local/lib/python3.7/dist-packages (from requests->flask-ngrok) (1.24.3)\n",
      "Requirement already satisfied: chardet<4,>=3.0.2 in /usr/local/lib/python3.7/dist-packages (from requests->flask-ngrok) (3.0.4)\n",
      "Requirement already satisfied: idna<3,>=2.5 in /usr/local/lib/python3.7/dist-packages (from requests->flask-ngrok) (2.10)\n",
      "Requirement already satisfied: MarkupSafe>=0.23 in /usr/local/lib/python3.7/dist-packages (from Jinja2<3.0,>=2.10.1->Flask>=0.8->flask-ngrok) (2.0.1)\n",
      "Requirement already satisfied: django in /usr/local/lib/python3.7/dist-packages (3.2.4)\n",
      "Requirement already satisfied: asgiref<4,>=3.3.2 in /usr/local/lib/python3.7/dist-packages (from django) (3.3.4)\n",
      "Requirement already satisfied: sqlparse>=0.2.2 in /usr/local/lib/python3.7/dist-packages (from django) (0.4.1)\n",
      "Requirement already satisfied: pytz in /usr/local/lib/python3.7/dist-packages (from django) (2018.9)\n",
      "Requirement already satisfied: typing-extensions; python_version < \"3.8\" in /usr/local/lib/python3.7/dist-packages (from asgiref<4,>=3.3.2->django) (3.7.4.3)\n",
      "Requirement already satisfied: beautifulsoup4 in /usr/local/lib/python3.7/dist-packages (4.6.3)\n",
      "Requirement already satisfied: requests in /usr/local/lib/python3.7/dist-packages (2.23.0)\n",
      "Requirement already satisfied: chardet<4,>=3.0.2 in /usr/local/lib/python3.7/dist-packages (from requests) (3.0.4)\n",
      "Requirement already satisfied: certifi>=2017.4.17 in /usr/local/lib/python3.7/dist-packages (from requests) (2020.12.5)\n",
      "Requirement already satisfied: urllib3!=1.25.0,!=1.25.1,<1.26,>=1.21.1 in /usr/local/lib/python3.7/dist-packages (from requests) (1.24.3)\n",
      "Requirement already satisfied: idna<3,>=2.5 in /usr/local/lib/python3.7/dist-packages (from requests) (2.10)\n"
     ]
    }
   ],
   "source": [
    "! pip install line-bot-sdk\n",
    "! pip install flask-ngrok\n",
    "! pip install django\n",
    "! pip install beautifulsoup4\n",
    "! pip install requests"
   ]
  },
  {
   "cell_type": "code",
   "execution_count": null,
   "metadata": {
    "collapsed": true,
    "id": "aqnlmGeXTNOg"
   },
   "outputs": [],
   "source": [
    "# from google.colab import drive\n",
    "# import os\n",
    "\n",
    "# drive.mount('/content/drive')\n",
    "# googleDrive = '/content/drive/MyDrive'\n",
    "# print(os.listdir(googleDrive))"
   ]
  },
  {
   "cell_type": "code",
   "execution_count": null,
   "metadata": {
    "colab": {
     "background_save": true,
     "base_uri": "https://localhost:8080/"
    },
    "id": "cGpdKUFTUCpT",
    "outputId": "978300c8-2055-4356-b600-5e8242039180"
   },
   "outputs": [
    {
     "name": "stdout",
     "output_type": "stream",
     "text": [
      " * Serving Flask app \"__main__\" (lazy loading)\n",
      " * Environment: production\n",
      "\u001b[31m   WARNING: This is a development server. Do not use it in a production deployment.\u001b[0m\n",
      "\u001b[2m   Use a production WSGI server instead.\u001b[0m\n",
      " * Debug mode: off\n"
     ]
    },
    {
     "name": "stderr",
     "output_type": "stream",
     "text": [
      " * Running on http://127.0.0.1:5000/ (Press CTRL+C to quit)\n"
     ]
    },
    {
     "name": "stdout",
     "output_type": "stream",
     "text": [
      " * Running on http://502950e51d70.ngrok.io\n",
      " * Traffic stats available on http://127.0.0.1:4040\n"
     ]
    },
    {
     "name": "stderr",
     "output_type": "stream",
     "text": [
      "127.0.0.1 - - [14/Jun/2021 05:31:19] \"\u001b[37mPOST /callback HTTP/1.1\u001b[0m\" 200 -\n"
     ]
    },
    {
     "name": "stdout",
     "output_type": "stream",
     "text": [
      "{\"destination\":\"U0f961c7b777bb072dad4125d50cdad23\",\"events\":[]} iGzRyNvoQYiTAh3a6D+ZpZfvuG+OA8qHnG1svpD7p3k=\n",
      "{\"destination\":\"U0f961c7b777bb072dad4125d50cdad23\",\"events\":[{\"type\":\"message\",\"message\":{\"type\":\"text\",\"id\":\"14222347859049\",\"text\":\"嗨你好 死神大人\"},\"timestamp\":1623648816279,\"source\":{\"type\":\"user\",\"userId\":\"U21f70e47543f9ecae44f5543731470c8\"},\"replyToken\":\"ff3f3c892ec045d3a6e90a6d55f921b3\",\"mode\":\"active\"}]} rFAvbdfaWWIy/lmunm+wfqd7anMAtcACdAoyb5iT870=\n"
     ]
    },
    {
     "name": "stderr",
     "output_type": "stream",
     "text": [
      "127.0.0.1 - - [14/Jun/2021 05:33:37] \"\u001b[37mPOST /callback HTTP/1.1\u001b[0m\" 200 -\n"
     ]
    },
    {
     "name": "stdout",
     "output_type": "stream",
     "text": [
      "{\"destination\":\"U0f961c7b777bb072dad4125d50cdad23\",\"events\":[{\"type\":\"message\",\"message\":{\"type\":\"text\",\"id\":\"14222348658641\",\"text\":\"拜託你幫幫我們\"},\"timestamp\":1623648827916,\"source\":{\"type\":\"user\",\"userId\":\"U21f70e47543f9ecae44f5543731470c8\"},\"replyToken\":\"05f50b90db0449f6ada4da7efd34853e\",\"mode\":\"active\"}]} o3bXyxyfhLHrUMW5VNrcuSDViULWV3W5Z2q179nYw/0=\n"
     ]
    },
    {
     "name": "stderr",
     "output_type": "stream",
     "text": [
      "127.0.0.1 - - [14/Jun/2021 05:33:49] \"\u001b[37mPOST /callback HTTP/1.1\u001b[0m\" 200 -\n"
     ]
    },
    {
     "name": "stdout",
     "output_type": "stream",
     "text": [
      "{\"destination\":\"U0f961c7b777bb072dad4125d50cdad23\",\"events\":[{\"type\":\"message\",\"message\":{\"type\":\"text\",\"id\":\"14222349328505\",\"text\":\"你好可愛\"},\"timestamp\":1623648837875,\"source\":{\"type\":\"user\",\"userId\":\"U21f70e47543f9ecae44f5543731470c8\"},\"replyToken\":\"c937d03785eb4475b6334e21de98e73e\",\"mode\":\"active\"}]} 5corhXv/ABNBr9TebMSRZcKNiZ+ZvFQSiaUzswXlieY=\n"
     ]
    },
    {
     "name": "stderr",
     "output_type": "stream",
     "text": [
      "127.0.0.1 - - [14/Jun/2021 05:33:59] \"\u001b[37mPOST /callback HTTP/1.1\u001b[0m\" 200 -\n"
     ]
    },
    {
     "name": "stdout",
     "output_type": "stream",
     "text": [
      "{\"destination\":\"U0f961c7b777bb072dad4125d50cdad23\",\"events\":[{\"type\":\"message\",\"message\":{\"type\":\"text\",\"id\":\"14222349972725\",\"text\":\"你有甚麼功能\"},\"timestamp\":1623648847335,\"source\":{\"type\":\"user\",\"userId\":\"U21f70e47543f9ecae44f5543731470c8\"},\"replyToken\":\"3b36e1f884d64d3f87502775aaece4f3\",\"mode\":\"active\"}]} B/4NF7Z6JCDtwOqafmmIQV6OJ8GAGMRRtDVCPf6Lggs=\n"
     ]
    },
    {
     "name": "stderr",
     "output_type": "stream",
     "text": [
      "127.0.0.1 - - [14/Jun/2021 05:34:09] \"\u001b[37mPOST /callback HTTP/1.1\u001b[0m\" 200 -\n"
     ]
    },
    {
     "name": "stdout",
     "output_type": "stream",
     "text": [
      "{\"destination\":\"U0f961c7b777bb072dad4125d50cdad23\",\"events\":[{\"type\":\"message\",\"message\":{\"type\":\"text\",\"id\":\"14222350994638\",\"text\":\"食物 \"},\"timestamp\":1623648862214,\"source\":{\"type\":\"user\",\"userId\":\"U21f70e47543f9ecae44f5543731470c8\"},\"replyToken\":\"30d86a712de64f9aad41d3f2108482e9\",\"mode\":\"active\"}]} JtjtE3L7KIbFHIOadKAz5esBxQd1HHJdUqku+dOVXP4=\n"
     ]
    },
    {
     "name": "stderr",
     "output_type": "stream",
     "text": [
      "127.0.0.1 - - [14/Jun/2021 05:34:23] \"\u001b[37mPOST /callback HTTP/1.1\u001b[0m\" 200 -\n"
     ]
    },
    {
     "name": "stdout",
     "output_type": "stream",
     "text": [
      "{\"destination\":\"U0f961c7b777bb072dad4125d50cdad23\",\"events\":[{\"type\":\"message\",\"message\":{\"type\":\"text\",\"id\":\"14222351823264\",\"text\":\"食物 台中市\"},\"timestamp\":1623648874437,\"source\":{\"type\":\"user\",\"userId\":\"U21f70e47543f9ecae44f5543731470c8\"},\"replyToken\":\"7500f8d5e3ef49cc802f2b62db5cafdf\",\"mode\":\"active\"}]} y/sgPZDV7edHG5RS1V64H2076EVerSw9SmgzPJTc/Bc=\n",
      "1.Supernoodle 七七製麵研究總署()\n",
      "網站連結:https://ifoodie.tw/restaurant/5fb228b08c906d77315084fe-Supernoodle-%E4%B8%83%E4%B8%83%E8%A3%BD%E9%BA%B5%E7%A0%94%E7%A9%B6%E7%B8%BD%E7%BD%B2\n",
      "圖片連結:https://lh3.googleusercontent.com/Q9vzUbxuutmrGz7Gp_xldFFnYmRhZYY-mbMCBWkcFRP_wExgV8sC4XMp6lelksqbQvq6u9Bi31ylanpIlQBfJv42RJlfTkE8Moiq1jrdpAPk=s360\n",
      "評分:4.3/5\n",
      "均消:無資訊\n",
      "評論連結:https://ifoodie.tw/restaurant/5fb228b08c906d77315084fe-Supernoodle-%E4%B8%83%E4%B8%83%E8%A3%BD%E9%BA%B5%E7%A0%94%E7%A9%B6%E7%B8%BD%E7%BD%B2#reviews\n",
      "營業狀態:今日營業: 11:30-22:00\n",
      "地址:台中市西區公益路250號\n",
      "2.熊介巧曲奇餅()\n",
      "網站連結:https://ifoodie.tw/restaurant/60636144873d793c0a1afa6f-%E7%86%8A%E4%BB%8B%E5%B7%A7%E6%9B%B2%E5%A5%87%E9%A4%85\n",
      "圖片連結:https://lh3.googleusercontent.com/IE725DeaLtzXNItpwpCq4bOzLlHsKplJpOoYFHXQx3WASIbx0a2YuNv0xw1XDIr8-QRuKiyo4oePtlmsD8flzjPtN7L5L3wwN2gj3vpUr_dl=s360\n",
      "評分:5.0/5\n",
      "均消:無資訊\n",
      "評論連結:https://ifoodie.tw/restaurant/60636144873d793c0a1afa6f-%E7%86%8A%E4%BB%8B%E5%B7%A7%E6%9B%B2%E5%A5%87%E9%A4%85#reviews\n",
      "營業狀態:今日營業: 09:00-12:00, 13:00-18:00\n",
      "地址:臺中市太平區中山路四段260巷12號\n",
      "3.崔炸雞 요요치킨 -漢口店()\n",
      "網站連結:https://ifoodie.tw/restaurant/5984b7e22756dd22a5bd3075-%E5%B4%94%E7%82%B8%E9%9B%9E-%EC%9A%94%EC%9A%94%EC%B9%98%ED%82%A8-%E6%BC%A2%E5%8F%A3%E5%BA%97\n",
      "圖片連結:https://lh3.googleusercontent.com/UAakQ-1kGmLcsBnIWC2hT6XcQZbaxp8n2TLm-31K-xdLnl_gm1TGEMHQv-KlsgAf48pkAfP4W6BmXx5jRprcw1UXo73Dt2YuQkU4IsbpPxw=s360\n",
      "評分:4.5/5\n",
      "均消:無資訊\n",
      "評論連結:https://ifoodie.tw/restaurant/5984b7e22756dd22a5bd3075-%E5%B4%94%E7%82%B8%E9%9B%9E-%EC%9A%94%EC%9A%94%EC%B9%98%ED%82%A8-%E6%BC%A2%E5%8F%A3%E5%BA%97#reviews\n",
      "營業狀態:今日營業: 16:00-23:45\n",
      "地址:臺中市北區漢口路四段272號\n",
      "\n",
      "4.山鯨燒肉()\n",
      "網站連結:https://ifoodie.tw/restaurant/57091c2e2756dd326e0d3d53-%E5%B1%B1%E9%AF%A8%E7%87%92%E8%82%89\n",
      "圖片連結:https://lh3.googleusercontent.com/ZivrV4gqdIn7u0R0v-7y2iyNJHftvtMOr1AJdaCHZiDR1IZlJE99SqTx4lHWyQzqKiYU7YWn45EKEaeVUHWNSVN9bsjC6jE=s360\n",
      "評分:4.4/5\n",
      "均消:無資訊\n",
      "評論連結:https://ifoodie.tw/restaurant/57091c2e2756dd326e0d3d53-%E5%B1%B1%E9%AF%A8%E7%87%92%E8%82%89#reviews\n",
      "營業狀態:今日營業: 11:30-15:30, 17:30-23:00\n",
      "地址:台中市北區漢口路四段70-1號\n",
      "5.柴火-火焰烤鴨館()\n",
      "網站連結:https://ifoodie.tw/restaurant/5a170e1e2756dd68a4efd2c8-%E6%9F%B4%E7%81%AB-%E7%81%AB%E7%84%B0%E7%83%A4%E9%B4%A8%E9%A4%A8\n",
      "圖片連結:https://lh3.googleusercontent.com/hNhu5I3EjfFp2saoEf-Y5Uvv2kZEDPyETnJnd8AiYx6jZIG2x3YBBMf83WsOtnTpn8NO6wCPH-qX1Gb3W9pRJ5igNIbBLFo=s360\n",
      "評分:4.7/5\n",
      "均消:無資訊\n",
      "評論連結:https://ifoodie.tw/restaurant/5a170e1e2756dd68a4efd2c8-%E6%9F%B4%E7%81%AB-%E7%81%AB%E7%84%B0%E7%83%A4%E9%B4%A8%E9%A4%A8#reviews\n",
      "營業狀態:今日營業: 11:30-14:00, 17:00-22:00\n",
      "地址:臺中市北屯區松竹路三段26號\n",
      "6.丰盛町 FENG SHENG PLACE()\n",
      "網站連結:https://ifoodie.tw/restaurant/5d9aacc18c906d229b03117e-%E4%B8%B0%E7%9B%9B%E7%94%BA-FENG-SHENG-PLACE\n",
      "圖片連結:https://lh3.googleusercontent.com/xaFN42xvWbiiYG2RUL0rnmOTlVRV-UISwxEUsdnvseJJ10YJEUuBK6T9IEq-9kcNuBh5NuoZEFSAh5Gt_R38Ku7MgLpTWQ=s360\n",
      "評分:3.9/5\n",
      "均消:無資訊\n",
      "評論連結:https://ifoodie.tw/restaurant/5d9aacc18c906d229b03117e-%E4%B8%B0%E7%9B%9B%E7%94%BA-FENG-SHENG-PLACE#reviews\n",
      "營業狀態:今日營業: 11:30-22:00\n",
      "地址:臺中市中區自由路二段94號\n",
      "\n"
     ]
    },
    {
     "name": "stderr",
     "output_type": "stream",
     "text": [
      "[2021-06-14 05:34:37,166] ERROR in app: Exception on /callback [POST]\n",
      "Traceback (most recent call last):\n",
      "  File \"/usr/local/lib/python3.7/dist-packages/flask/app.py\", line 2447, in wsgi_app\n",
      "    response = self.full_dispatch_request()\n",
      "  File \"/usr/local/lib/python3.7/dist-packages/flask/app.py\", line 1952, in full_dispatch_request\n",
      "    rv = self.handle_user_exception(e)\n",
      "  File \"/usr/local/lib/python3.7/dist-packages/flask/app.py\", line 1821, in handle_user_exception\n",
      "    reraise(exc_type, exc_value, tb)\n",
      "  File \"/usr/local/lib/python3.7/dist-packages/flask/_compat.py\", line 39, in reraise\n",
      "    raise value\n",
      "  File \"/usr/local/lib/python3.7/dist-packages/flask/app.py\", line 1950, in full_dispatch_request\n",
      "    rv = self.dispatch_request()\n",
      "  File \"/usr/local/lib/python3.7/dist-packages/flask/app.py\", line 1936, in dispatch_request\n",
      "    return self.view_functions[rule.endpoint](**req.view_args)\n",
      "  File \"<ipython-input-9-0bed48a682d6>\", line 49, in callback\n",
      "    handler.handle(body,signature)\n",
      "  File \"/usr/local/lib/python3.7/dist-packages/linebot/webhook.py\", line 260, in handle\n",
      "    self.__invoke_func(func, event, payload)\n",
      "  File \"/usr/local/lib/python3.7/dist-packages/linebot/webhook.py\", line 272, in __invoke_func\n",
      "    func(event)\n",
      "  File \"<ipython-input-9-0bed48a682d6>\", line 179, in hello_message\n",
      "    line_bot_api.reply_message(event.reply_token,TextSendMessage(text=ress2))\n",
      "  File \"/usr/local/lib/python3.7/dist-packages/linebot/api.py\", line 109, in reply_message\n",
      "    '/v2/bot/message/reply', data=json.dumps(data), timeout=timeout\n",
      "  File \"/usr/local/lib/python3.7/dist-packages/linebot/api.py\", line 1269, in _post\n",
      "    self.__check_error(response)\n",
      "  File \"/usr/local/lib/python3.7/dist-packages/linebot/api.py\", line 1310, in __check_error\n",
      "    error=Error.new_from_json_dict(response.json)\n",
      "linebot.exceptions.LineBotApiError: LineBotApiError: status_code=400, request_id=418feb85-613e-46f8-b164-3441dad08bfb, error_response={\"details\": [], \"message\": \"Invalid reply token\"}, headers={'Server': 'openresty', 'Content-Type': 'application/json', 'x-line-request-id': '418feb85-613e-46f8-b164-3441dad08bfb', 'x-content-type-options': 'nosniff', 'x-xss-protection': '1; mode=block', 'x-frame-options': 'DENY', 'Content-Length': '33', 'Expires': 'Mon, 14 Jun 2021 05:34:37 GMT', 'Cache-Control': 'max-age=0, no-cache, no-store', 'Pragma': 'no-cache', 'Date': 'Mon, 14 Jun 2021 05:34:37 GMT', 'Connection': 'close'}\n",
      "127.0.0.1 - - [14/Jun/2021 05:34:37] \"\u001b[35m\u001b[1mPOST /callback HTTP/1.1\u001b[0m\" 500 -\n"
     ]
    },
    {
     "name": "stdout",
     "output_type": "stream",
     "text": [
      "{\"destination\":\"U0f961c7b777bb072dad4125d50cdad23\",\"events\":[{\"type\":\"message\",\"message\":{\"type\":\"text\",\"id\":\"14222354200156\",\"text\":\"想知道胖次的顏色\"},\"timestamp\":1623648909355,\"source\":{\"type\":\"user\",\"userId\":\"U21f70e47543f9ecae44f5543731470c8\"},\"replyToken\":\"0089ba5d979b44d6a29361d3aa6b4a42\",\"mode\":\"active\"}]} UwwH2d8oxdFbu6XUGs1aLi+isU0gxdTyNNKErk3eLig=\n"
     ]
    },
    {
     "name": "stderr",
     "output_type": "stream",
     "text": [
      "127.0.0.1 - - [14/Jun/2021 05:35:10] \"\u001b[37mPOST /callback HTTP/1.1\u001b[0m\" 200 -\n"
     ]
    },
    {
     "name": "stdout",
     "output_type": "stream",
     "text": [
      "{\"destination\":\"U0f961c7b777bb072dad4125d50cdad23\",\"events\":[{\"type\":\"message\",\"message\":{\"type\":\"text\",\"id\":\"14222354654882\",\"text\":\"胖次的款式\"},\"timestamp\":1623648916137,\"source\":{\"type\":\"user\",\"userId\":\"U21f70e47543f9ecae44f5543731470c8\"},\"replyToken\":\"7bf7bbe663ac440a94119542c67590d2\",\"mode\":\"active\"}]} 0fJQB1xXtU7sMJRjs3cmFloQ6twEQYIQ6UGPSqaSw9A=\n"
     ]
    },
    {
     "name": "stderr",
     "output_type": "stream",
     "text": [
      "127.0.0.1 - - [14/Jun/2021 05:35:17] \"\u001b[37mPOST /callback HTTP/1.1\u001b[0m\" 200 -\n"
     ]
    },
    {
     "name": "stdout",
     "output_type": "stream",
     "text": [
      "{\"destination\":\"U0f961c7b777bb072dad4125d50cdad23\",\"events\":[{\"type\":\"message\",\"message\":{\"type\":\"text\",\"id\":\"14222355843460\",\"text\":\"食物 澎湖縣\"},\"timestamp\":1623648933607,\"source\":{\"type\":\"user\",\"userId\":\"U21f70e47543f9ecae44f5543731470c8\"},\"replyToken\":\"097286b84ae04769b30512999dde609f\",\"mode\":\"active\"}]} L42QHOxsBxTsYnM4VIHHCV3yclD+qBVd9TisIw7WASs=\n",
      "1.阿挺海鮮()\n",
      "網站連結:https://ifoodie.tw/restaurant/6093fb897cc7fc6a54181307-%E9%98%BF%E6%8C%BA%E6%B5%B7%E9%AE%AE\n",
      "圖片連結:https://lh3.googleusercontent.com/rOPi_0SXcPjzcEklWycf2k_89mxdXKuja1N8rXf_R_mgEBJS3r66zvrocPy8iQmowqpMi_m0dw7j1l03SCHy18HFvQ3vL34OFCQ_Duv4fQeO=s360\n",
      "評分:4.4/5\n",
      "均消:無資訊\n",
      "評論連結:https://ifoodie.tw/restaurant/6093fb897cc7fc6a54181307-%E9%98%BF%E6%8C%BA%E6%B5%B7%E9%AE%AE#reviews\n",
      "營業狀態:今日營業: 09:00-17:00\n",
      "地址:澎湖縣西嶼鄉11之2號\n",
      "2.新巴適經典麻辣鍋()\n",
      "網站連結:https://ifoodie.tw/restaurant/5e5e0932d6895d6e42a00abe-%E6%96%B0%E5%B7%B4%E9%81%A9%E7%B6%93%E5%85%B8%E9%BA%BB%E8%BE%A3%E9%8D%8B\n",
      "圖片連結:https://lh3.googleusercontent.com/rrRU_Kko63qG9-KWCv55A5Yx1JqFWkFGyo8djlQ4-etBN-oa50KCrrPksyHaqF1IrdI761TIOYS4C6pciLcRC1cvrWGp2js=s360\n",
      "評分:4.9/5\n",
      "均消:無資訊\n",
      "評論連結:https://ifoodie.tw/restaurant/5e5e0932d6895d6e42a00abe-%E6%96%B0%E5%B7%B4%E9%81%A9%E7%B6%93%E5%85%B8%E9%BA%BB%E8%BE%A3%E9%8D%8B#reviews\n",
      "營業狀態:今日營業: 11:00-15:00, 17:00-00:00\n",
      "地址:澎湖縣馬公市中華路329號\n",
      "3.掌上明珠仙人掌冰淇淋()\n",
      "網站連結:https://ifoodie.tw/restaurant/5ca17c4d2261397f3b2ab071-%E6%8E%8C%E4%B8%8A%E6%98%8E%E7%8F%A0%E4%BB%99%E4%BA%BA%E6%8E%8C%E5%86%B0%E6%B7%87%E6%B7%8B\n",
      "圖片連結:https://lh3.googleusercontent.com/njqK9mv458kYM4zktYH554pHasFipEqSDREMRC_uGjOlhIadX84bqqAJPCnhucs2BTWFDjuXTXV8eYC8Q00BiffIYoyGAl_K=s360\n",
      "評分:4.5/5\n",
      "均消:無資訊\n",
      "評論連結:https://ifoodie.tw/restaurant/5ca17c4d2261397f3b2ab071-%E6%8E%8C%E4%B8%8A%E6%98%8E%E7%8F%A0%E4%BB%99%E4%BA%BA%E6%8E%8C%E5%86%B0%E6%B7%87%E6%B7%8B#reviews\n",
      "營業狀態:今日營業: 13:00-17:00\n",
      "地址:澎湖縣馬公市民族路41號\n",
      "\n",
      "4.山鯨燒肉()\n",
      "網站連結:https://ifoodie.tw/restaurant/57091c2e2756dd326e0d3d53-%E5%B1%B1%E9%AF%A8%E7%87%92%E8%82%89\n",
      "圖片連結:https://lh3.googleusercontent.com/ZivrV4gqdIn7u0R0v-7y2iyNJHftvtMOr1AJdaCHZiDR1IZlJE99SqTx4lHWyQzqKiYU7YWn45EKEaeVUHWNSVN9bsjC6jE=s360\n",
      "評分:4.4/5\n",
      "均消:無資訊\n",
      "評論連結:https://ifoodie.tw/restaurant/57091c2e2756dd326e0d3d53-%E5%B1%B1%E9%AF%A8%E7%87%92%E8%82%89#reviews\n",
      "營業狀態:今日營業: 11:30-15:30, 17:30-23:00\n",
      "地址:台中市北區漢口路四段70-1號\n",
      "5.柴火-火焰烤鴨館()\n",
      "網站連結:https://ifoodie.tw/restaurant/5a170e1e2756dd68a4efd2c8-%E6%9F%B4%E7%81%AB-%E7%81%AB%E7%84%B0%E7%83%A4%E9%B4%A8%E9%A4%A8\n",
      "圖片連結:https://lh3.googleusercontent.com/hNhu5I3EjfFp2saoEf-Y5Uvv2kZEDPyETnJnd8AiYx6jZIG2x3YBBMf83WsOtnTpn8NO6wCPH-qX1Gb3W9pRJ5igNIbBLFo=s360\n",
      "評分:4.7/5\n",
      "均消:無資訊\n",
      "評論連結:https://ifoodie.tw/restaurant/5a170e1e2756dd68a4efd2c8-%E6%9F%B4%E7%81%AB-%E7%81%AB%E7%84%B0%E7%83%A4%E9%B4%A8%E9%A4%A8#reviews\n",
      "營業狀態:今日營業: 11:30-14:00, 17:00-22:00\n",
      "地址:臺中市北屯區松竹路三段26號\n",
      "6.丰盛町 FENG SHENG PLACE()\n",
      "網站連結:https://ifoodie.tw/restaurant/5d9aacc18c906d229b03117e-%E4%B8%B0%E7%9B%9B%E7%94%BA-FENG-SHENG-PLACE\n",
      "圖片連結:https://lh3.googleusercontent.com/xaFN42xvWbiiYG2RUL0rnmOTlVRV-UISwxEUsdnvseJJ10YJEUuBK6T9IEq-9kcNuBh5NuoZEFSAh5Gt_R38Ku7MgLpTWQ=s360\n",
      "評分:3.9/5\n",
      "均消:無資訊\n",
      "評論連結:https://ifoodie.tw/restaurant/5d9aacc18c906d229b03117e-%E4%B8%B0%E7%9B%9B%E7%94%BA-FENG-SHENG-PLACE#reviews\n",
      "營業狀態:今日營業: 11:30-22:00\n",
      "地址:臺中市中區自由路二段94號\n",
      "4.紫玉仙草()\n",
      "網站連結:https://ifoodie.tw/restaurant/5f58e52c2756dd15618e5ede-%E7%B4%AB%E7%8E%89%E4%BB%99%E8%8D%89\n",
      "圖片連結:https://lh3.googleusercontent.com/-k7zqOPpnxh0y6i8b3dzIecgI7JYPRgETIxWQB927LYqrFTs33tH7phMua4nEuqiPBB0qfqevWCZK3Mi41Fn-G-m0-FTOwI=s360\n",
      "評分:4.7/5\n",
      "均消:無資訊\n",
      "評論連結:https://ifoodie.tw/restaurant/5f58e52c2756dd15618e5ede-%E7%B4%AB%E7%8E%89%E4%BB%99%E8%8D%89#reviews\n",
      "營業狀態:今日營業: 12:30-21:30\n",
      "地址:澎湖縣馬公市中華路7號\n",
      "5.老李胡椒餅()\n",
      "網站連結:https://ifoodie.tw/restaurant/609355918282875ffebd2f65-%E8%80%81%E6%9D%8E%E8%83%A1%E6%A4%92%E9%A4%85\n",
      "圖片連結:https://lh3.googleusercontent.com/jx6ov_UIom3vrkPLPex5Y5n5TUk6EtqIX-ueMmsdfAkQ9oJMNRNitSHGc62X528Yv5MYlB3Il81sLfA_GR8XUI4adjAwJ-wzgY4RVDfNrHsL=s360\n",
      "評分:5.0/5\n",
      "均消:無資訊\n",
      "評論連結:https://ifoodie.tw/restaurant/609355918282875ffebd2f65-%E8%80%81%E6%9D%8E%E8%83%A1%E6%A4%92%E9%A4%85#reviews\n",
      "營業狀態:今日營業: 14:00-18:30\n",
      "地址:澎湖縣馬公市陽明路55之3號\n",
      "6.沐一豬排()\n",
      "網站連結:https://ifoodie.tw/restaurant/5f173c46d6895d497b55bba0-%E6%B2%90%E4%B8%80%E8%B1%AC%E6%8E%92\n",
      "圖片連結:https://lh3.googleusercontent.com/8xAjCnYuPwyzkzeCbqVSSvWkfIdWBKwLmWOZMfZYbJOrcD6KmF7YKrGT3FwzT_wI6N_-CrPzO-5HgRi7aTRa9Snnjm_56w=s360\n",
      "評分:4.8/5\n",
      "均消:無資訊\n",
      "評論連結:https://ifoodie.tw/restaurant/5f173c46d6895d497b55bba0-%E6%B2%90%E4%B8%80%E8%B1%AC%E6%8E%92#reviews\n",
      "營業狀態:今日營業: 11:00-14:00, 17:30-20:30\n",
      "地址:澎湖縣馬公市陽明路106號\n",
      "\n"
     ]
    },
    {
     "name": "stderr",
     "output_type": "stream",
     "text": [
      "[2021-06-14 05:35:36,131] ERROR in app: Exception on /callback [POST]\n",
      "Traceback (most recent call last):\n",
      "  File \"/usr/local/lib/python3.7/dist-packages/flask/app.py\", line 2447, in wsgi_app\n",
      "    response = self.full_dispatch_request()\n",
      "  File \"/usr/local/lib/python3.7/dist-packages/flask/app.py\", line 1952, in full_dispatch_request\n",
      "    rv = self.handle_user_exception(e)\n",
      "  File \"/usr/local/lib/python3.7/dist-packages/flask/app.py\", line 1821, in handle_user_exception\n",
      "    reraise(exc_type, exc_value, tb)\n",
      "  File \"/usr/local/lib/python3.7/dist-packages/flask/_compat.py\", line 39, in reraise\n",
      "    raise value\n",
      "  File \"/usr/local/lib/python3.7/dist-packages/flask/app.py\", line 1950, in full_dispatch_request\n",
      "    rv = self.dispatch_request()\n",
      "  File \"/usr/local/lib/python3.7/dist-packages/flask/app.py\", line 1936, in dispatch_request\n",
      "    return self.view_functions[rule.endpoint](**req.view_args)\n",
      "  File \"<ipython-input-9-0bed48a682d6>\", line 49, in callback\n",
      "    handler.handle(body,signature)\n",
      "  File \"/usr/local/lib/python3.7/dist-packages/linebot/webhook.py\", line 260, in handle\n",
      "    self.__invoke_func(func, event, payload)\n",
      "  File \"/usr/local/lib/python3.7/dist-packages/linebot/webhook.py\", line 272, in __invoke_func\n",
      "    func(event)\n",
      "  File \"<ipython-input-9-0bed48a682d6>\", line 179, in hello_message\n",
      "    line_bot_api.reply_message(event.reply_token,TextSendMessage(text=ress2))\n",
      "  File \"/usr/local/lib/python3.7/dist-packages/linebot/api.py\", line 109, in reply_message\n",
      "    '/v2/bot/message/reply', data=json.dumps(data), timeout=timeout\n",
      "  File \"/usr/local/lib/python3.7/dist-packages/linebot/api.py\", line 1269, in _post\n",
      "    self.__check_error(response)\n",
      "  File \"/usr/local/lib/python3.7/dist-packages/linebot/api.py\", line 1310, in __check_error\n",
      "    error=Error.new_from_json_dict(response.json)\n",
      "linebot.exceptions.LineBotApiError: LineBotApiError: status_code=400, request_id=2af8d385-39a1-47b1-b472-30cd9c72493a, error_response={\"details\": [], \"message\": \"Invalid reply token\"}, headers={'Server': 'openresty', 'Content-Type': 'application/json', 'x-line-request-id': '2af8d385-39a1-47b1-b472-30cd9c72493a', 'x-content-type-options': 'nosniff', 'x-xss-protection': '1; mode=block', 'x-frame-options': 'DENY', 'Content-Length': '33', 'Expires': 'Mon, 14 Jun 2021 05:35:36 GMT', 'Cache-Control': 'max-age=0, no-cache, no-store', 'Pragma': 'no-cache', 'Date': 'Mon, 14 Jun 2021 05:35:36 GMT', 'Connection': 'close'}\n",
      "127.0.0.1 - - [14/Jun/2021 05:35:36] \"\u001b[35m\u001b[1mPOST /callback HTTP/1.1\u001b[0m\" 500 -\n"
     ]
    },
    {
     "name": "stdout",
     "output_type": "stream",
     "text": [
      "{\"destination\":\"U0f961c7b777bb072dad4125d50cdad23\",\"events\":[{\"type\":\"message\",\"message\":{\"type\":\"text\",\"id\":\"14222356960274\",\"text\":\"你是誰\"},\"timestamp\":1623648950063,\"source\":{\"type\":\"user\",\"userId\":\"U21f70e47543f9ecae44f5543731470c8\"},\"replyToken\":\"c67bb91a24234ff3bdfe9984b873fbf6\",\"mode\":\"active\"}]} DidsFc8HNMdQeLQMFyO/bs/HE+WH8qWWCOQ+CG2YyfY=\n"
     ]
    },
    {
     "name": "stderr",
     "output_type": "stream",
     "text": [
      "127.0.0.1 - - [14/Jun/2021 05:35:51] \"\u001b[37mPOST /callback HTTP/1.1\u001b[0m\" 200 -\n"
     ]
    },
    {
     "name": "stdout",
     "output_type": "stream",
     "text": [
      "{\"destination\":\"U0f961c7b777bb072dad4125d50cdad23\",\"events\":[{\"type\":\"message\",\"message\":{\"type\":\"text\",\"id\":\"14222357250183\",\"text\":\"年齡\"},\"timestamp\":1623648954367,\"source\":{\"type\":\"user\",\"userId\":\"U21f70e47543f9ecae44f5543731470c8\"},\"replyToken\":\"a8941e9f62da4309a5c4c76953798cb9\",\"mode\":\"active\"}]} Io3b4RRWjkbRnIszgeEod2VOFCzkQazh8upLhOf2KX0=\n"
     ]
    },
    {
     "name": "stderr",
     "output_type": "stream",
     "text": [
      "127.0.0.1 - - [14/Jun/2021 05:35:55] \"\u001b[37mPOST /callback HTTP/1.1\u001b[0m\" 200 -\n"
     ]
    },
    {
     "name": "stdout",
     "output_type": "stream",
     "text": [
      "{\"destination\":\"U0f961c7b777bb072dad4125d50cdad23\",\"events\":[{\"type\":\"message\",\"message\":{\"type\":\"text\",\"id\":\"14222357708279\",\"text\":\"生日\"},\"timestamp\":1623648961122,\"source\":{\"type\":\"user\",\"userId\":\"U21f70e47543f9ecae44f5543731470c8\"},\"replyToken\":\"ef6c6c394357458fa86b59cbdb214021\",\"mode\":\"active\"}]} wNoexrCbrK6sGB10rE5PICRTfGz11DP7HSTPxKPh2LE=\n"
     ]
    },
    {
     "name": "stderr",
     "output_type": "stream",
     "text": [
      "127.0.0.1 - - [14/Jun/2021 05:36:02] \"\u001b[37mPOST /callback HTTP/1.1\u001b[0m\" 200 -\n"
     ]
    },
    {
     "name": "stdout",
     "output_type": "stream",
     "text": [
      "{\"destination\":\"U0f961c7b777bb072dad4125d50cdad23\",\"events\":[{\"type\":\"message\",\"message\":{\"type\":\"text\",\"id\":\"14222359102438\",\"text\":\"你的興趣\"},\"timestamp\":1623648981675,\"source\":{\"type\":\"user\",\"userId\":\"U21f70e47543f9ecae44f5543731470c8\"},\"replyToken\":\"f3bfbbe7b7de41a2bd213c7b9f518fd5\",\"mode\":\"active\"}]} xoFgqf9gbo2PRiwADFGZj2pMAQQoKNuzWG38rwUM0ZQ=\n"
     ]
    },
    {
     "name": "stderr",
     "output_type": "stream",
     "text": [
      "127.0.0.1 - - [14/Jun/2021 05:36:23] \"\u001b[37mPOST /callback HTTP/1.1\u001b[0m\" 200 -\n"
     ]
    },
    {
     "name": "stdout",
     "output_type": "stream",
     "text": [
      "{\"destination\":\"U0f961c7b777bb072dad4125d50cdad23\",\"events\":[{\"type\":\"message\",\"message\":{\"type\":\"text\",\"id\":\"14222360003958\",\"text\":\"當前時間幾點\"},\"timestamp\":1623648995013,\"source\":{\"type\":\"user\",\"userId\":\"U21f70e47543f9ecae44f5543731470c8\"},\"replyToken\":\"eab9ef2a8a804321a119e9c62db77a93\",\"mode\":\"active\"}]} bYyigwkVCLF7C6hGPGW03Q2yFuQiVKMome3XT2cc4ag=\n"
     ]
    },
    {
     "name": "stderr",
     "output_type": "stream",
     "text": [
      "127.0.0.1 - - [14/Jun/2021 05:36:36] \"\u001b[37mPOST /callback HTTP/1.1\u001b[0m\" 200 -\n"
     ]
    },
    {
     "name": "stdout",
     "output_type": "stream",
     "text": [
      "{\"destination\":\"U0f961c7b777bb072dad4125d50cdad23\",\"events\":[{\"type\":\"message\",\"message\":{\"type\":\"text\",\"id\":\"14222361568899\",\"text\":\"天氣狀態\"},\"timestamp\":1623649017994,\"source\":{\"type\":\"user\",\"userId\":\"U21f70e47543f9ecae44f5543731470c8\"},\"replyToken\":\"1e42991b39af4ea48b9045583acdba16\",\"mode\":\"active\"}]} JuktEfowunrV8GY+RsvRslmyjkdVApMIB8a6gCYacfg=\n"
     ]
    },
    {
     "name": "stderr",
     "output_type": "stream",
     "text": [
      "127.0.0.1 - - [14/Jun/2021 05:36:59] \"\u001b[37mPOST /callback HTTP/1.1\u001b[0m\" 200 -\n"
     ]
    },
    {
     "name": "stdout",
     "output_type": "stream",
     "text": [
      "{\"destination\":\"U0f961c7b777bb072dad4125d50cdad23\",\"events\":[{\"type\":\"message\",\"message\":{\"type\":\"text\",\"id\":\"14222362068628\",\"text\":\"天氣 台中市\"},\"timestamp\":1623649025322,\"source\":{\"type\":\"user\",\"userId\":\"U21f70e47543f9ecae44f5543731470c8\"},\"replyToken\":\"992424b5387e482c81bccb4f25403b63\",\"mode\":\"active\"}]} zHb4t2wtLTw94p5oiGRK1V6ckBJ+/i9lMPDOatqjVpI=\n"
     ]
    },
    {
     "name": "stderr",
     "output_type": "stream",
     "text": [
      "127.0.0.1 - - [14/Jun/2021 05:37:08] \"\u001b[37mPOST /callback HTTP/1.1\u001b[0m\" 200 -\n"
     ]
    },
    {
     "name": "stdout",
     "output_type": "stream",
     "text": [
      "{\"destination\":\"U0f961c7b777bb072dad4125d50cdad23\",\"events\":[{\"type\":\"message\",\"message\":{\"type\":\"text\",\"id\":\"14222364069153\",\"text\":\"我喜歡妳死神大人\"},\"timestamp\":1623649054753,\"source\":{\"type\":\"user\",\"userId\":\"U21f70e47543f9ecae44f5543731470c8\"},\"replyToken\":\"f02032fd71ef436f8b0209453736aa8e\",\"mode\":\"active\"}]} XWeu8WGhHu6QZxHKtJscyNkAYBwe5D5ugJ8xpHVAfNc=\n"
     ]
    },
    {
     "name": "stderr",
     "output_type": "stream",
     "text": [
      "127.0.0.1 - - [14/Jun/2021 05:37:35] \"\u001b[37mPOST /callback HTTP/1.1\u001b[0m\" 200 -\n"
     ]
    }
   ],
   "source": [
    "from __future__ import unicode_literals\n",
    "import os\n",
    "from flask import Flask, request, abort\n",
    "from linebot import LineBotApi, WebhookHandler\n",
    "from linebot.exceptions import InvalidSignatureError\n",
    "from linebot.models import MessageEvent, TextMessage, TextSendMessage\n",
    "from flask_ngrok import run_with_ngrok\n",
    "from PIL import Image\n",
    "from io import StringIO\n",
    "from bs4 import BeautifulSoup\n",
    "import matplotlib.pyplot as plt\n",
    "import matplotlib.image as mpimg\n",
    "import numpy as np\n",
    "import requests\n",
    "import random\n",
    "import time\n",
    "import json\n",
    "import math\n",
    "import random\n",
    "import string\n",
    "import configparser\n",
    "import random,string\n",
    "\n",
    "\n",
    "app = Flask(__name__)\n",
    "run_with_ngrok(app)\n",
    "line_bot_api = LineBotApi('FQegCeIhV+PZmvMwgqYrtLGfFumHIM1IQ0pCzyNCe3lBp/r2llyjHoQEEgJhp1/EvFoUKGTtlu/5vaEYOzHU9fBhn/CNWIISnQNc94JCQZtjn8c4vHDkKWwIeZuLhCo4IIzYLAf7lkWv4hbYtor1LgdB04t89/1O/w1cDnyilFU=')\n",
    "handler = WebhookHandler('d1709beb6f197c641853bba06c654a74')\n",
    "times = 0\n",
    "Total = str()\n",
    "Total2 = str()\n",
    "Total3 = str()\n",
    "Total4 = str()\n",
    "from datetime import datetime, timezone, timedelta\n",
    "tz = timezone(timedelta(hours=+8))\n",
    "\n",
    "Locations = ['基隆市','嘉義市','台北市','嘉義縣','新北市','台南市','桃園縣','高雄市','新竹市','屏東縣','新竹縣','台東縣','苗栗縣','花蓮縣','台中市','宜蘭縣','彰化縣','澎湖縣','南投縣','金門縣','雲林縣','連江縣']\n",
    "cities = ['基隆市','嘉義市','臺北市','嘉義縣','新北市','臺南市','桃園縣','高雄市','新竹市','屏東縣','新竹縣','臺東縣','苗栗縣','花蓮縣','臺中市','宜蘭縣','彰化縣','澎湖縣','南投縣','金門縣','雲林縣','連江縣']\n",
    "@app.route(\"/callback\", methods=['POST'])\n",
    "\n",
    "def callback():\n",
    "    signature = request.headers['X-Line-Signature']\n",
    "\n",
    "    body = request.get_data(as_text=True)\n",
    "    app.logger.info(\"Request body: \" + body)\n",
    "    \n",
    "    try:\n",
    "        print(body,signature)\n",
    "        handler.handle(body,signature)\n",
    "        \n",
    "    except InvalidSignatureError:\n",
    "        abort(400)\n",
    "\n",
    "    return 'OK'\n",
    "\n",
    "def get(city): \n",
    "  token = 'CWB-88575519-8287-4BC0-AC20-45563FA82341'\n",
    "  url = 'https://opendata.cwb.gov.tw/api/v1/rest/datastore/F-C0032-001?Authorization=' + token + '&locationName=' + str(city)\n",
    "  Data = requests.get(url)\n",
    "  Data = (json.loads(Data.text,encoding='utf-8'))['records']\n",
    "\n",
    "  query_res = []\n",
    "  for row in Data['location']:\n",
    "    if city in str(row):\n",
    "      query_res.append(row)\n",
    "      break\n",
    "  \n",
    "  res = [[]]\n",
    "  for j in range(1):\n",
    "    for i in query_res[0]['weatherElement']:\n",
    "      res[j].append(i['time'][j]['parameter']['parameterName'])\n",
    "      # print(type(i['time'][j]['parameter']['parameterName']))\n",
    "  result = city + \"\\n天氣狀況：\" + res[0][0] + \"\\n降雨機率：\" + res[0][1] + \" %\\n溫度：\" + res[0][2] + \"~\" + res[0][4] + \"°C\"\n",
    "  return result\n",
    "\n",
    "def get_food(Location):\n",
    "  global times,Total,Total2,Total3,Total4\n",
    "  Website = \"https://ifoodie.tw\"\n",
    "  #獲取連結\n",
    "  Link = list()\n",
    "  #獲取店家名稱\n",
    "  Name = list()\n",
    "  #獲取圖片\n",
    "  Photo = list()\n",
    "  #獲取評分\n",
    "  Rate = list()\n",
    "  #均消\n",
    "  Price = list()\n",
    "  #評論\n",
    "  Comment = list()\n",
    "  #營業時間\n",
    "  Time = list()\n",
    "  #地址\n",
    "  Address = list()\n",
    "  #分類(文字雲用)\n",
    "  Category = [list() for i in range(10)]\n",
    "  #網站bug修復\n",
    "  a = 0\n",
    "  Cnum = 0\n",
    "  Total = \"\"\n",
    "  response = requests.get(\"https://ifoodie.tw/explore/\"+Location+\"/list\")\n",
    "  soup = BeautifulSoup(response.text, \"html.parser\")\n",
    "  Content = soup.find(\"div\", class_=\"jsx-3908823019 item-list\")\n",
    "  List = Content.find_all(\"div\", class_=\"jsx-4282820896 restaurant-info\")\n",
    "  for k in List:\n",
    "    # print(k)\n",
    "    Link.append(Website+k.find(\"a\").get(\"href\"))\n",
    "    Name.append(k.find(\"img\")[\"alt\"])\n",
    "    if(a<=1):\n",
    "      Photo.append(k.find(\"img\")[\"src\"])\n",
    "    else:\n",
    "      Photo.append(k.find(\"img\")[\"data-src\"])\n",
    "    if(k.find(\"div\", class_=\"jsx-1207467136 text\")):\n",
    "      Rate.append(k.find(\"div\", class_=\"jsx-1207467136 text\").getText()) \n",
    "    else:\n",
    "      Rate.append(\"無評分\")\n",
    "    if (k.find(\"div\", class_=\"jsx-1776651079 avg-price\")):\n",
    "      Price.append(k.find(\"div\", class_=\"jsx-1776651079 avg-price\").text)   \n",
    "    else:\n",
    "      Price.append(\"無資訊\")\n",
    "    Comment.append(Website+k.find(\"a\", class_=\"jsx-4282820896 review-count\").get(\"href\"))\n",
    "    tmp = k.find(\"div\", class_=\"jsx-4282820896 info\").getText()\n",
    "    Time.append(tmp)\n",
    "    Address.append(k.find(\"div\", class_=\"jsx-4282820896 address-row\").getText())\n",
    "    for i in k.find_all(\"a\", class_=\"jsx-1776651079 category\"):\n",
    "      if(i.getText()==\"附近餐廳\"):\n",
    "        continue\n",
    "      Category[Cnum].append(i.getText())\n",
    "    Cnum += 1\n",
    "    a += 1\n",
    "  for i in range(0,10):\n",
    "    num = i + 1\n",
    "    category = str(Category[i])\n",
    "    category = category.replace(\"[\",\"\")\n",
    "    category = category.replace(\"]\",\"\")\n",
    "    category = category.replace(\"'\",\"\")\n",
    "    if(i<3):\n",
    "      Total = Total+str(num)+\".\"+str(Name[i])+\"(\"+category+\")\"+\"\\n\"+\"網站連結:\"+str(Link[i])+\"\\n\"+\"圖片連結:\"+str(Photo[i])+\"\\n\"+\"評分:\"+str(Rate[i])+\"/5\"+\"\\n\"+\"均消:\"+str(Price[i])+\"\\n\"+\"評論連結:\"+str(Comment[i])+\"\\n\"+\"營業狀態:\"+str(Time[i])+\"\\n\"+\"地址:\"+str(Address[i])+\"\\n\"      \n",
    "    elif(i<6):\n",
    "      Total2 = Total2+str(num)+\".\"+str(Name[i])+\"(\"+category+\")\"+\"\\n\"+\"網站連結:\"+str(Link[i])+\"\\n\"+\"圖片連結:\"+str(Photo[i])+\"\\n\"+\"評分:\"+str(Rate[i])+\"/5\"+\"\\n\"+\"均消:\"+str(Price[i])+\"\\n\"+\"評論連結:\"+str(Comment[i])+\"\\n\"+\"營業狀態:\"+str(Time[i])+\"\\n\"+\"地址:\"+str(Address[i])+\"\\n\"      \n",
    "    elif(i<9):\n",
    "      Total3 = Total3+str(num)+\".\"+str(Name[i])+\"(\"+category+\")\"+\"\\n\"+\"網站連結:\"+str(Link[i])+\"\\n\"+\"圖片連結:\"+str(Photo[i])+\"\\n\"+\"評分:\"+str(Rate[i])+\"/5\"+\"\\n\"+\"均消:\"+str(Price[i])+\"\\n\"+\"評論連結:\"+str(Comment[i])+\"\\n\"+\"營業狀態:\"+str(Time[i])+\"\\n\"+\"地址:\"+str(Address[i])+\"\\n\"\n",
    "    elif(i<10):\n",
    "      Total4 = Total4+str(num)+\".\"+str(Name[i])+\"(\"+category+\")\"+\"\\n\"+\"網站連結:\"+str(Link[i])+\"\\n\"+\"圖片連結:\"+str(Photo[i])+\"\\n\"+\"評分:\"+str(Rate[i])+\"/5\"+\"\\n\"+\"均消:\"+str(Price[i])+\"\\n\"+\"評論連結:\"+str(Comment[i])+\"\\n\"+\"營業狀態:\"+str(Time[i])+\"\\n\"+\"地址:\"+str(Address[i])+\"\\n\"\n",
    "\n",
    "@handler.add(MessageEvent,message=TextMessage)\n",
    "def hello_message(event):\n",
    "    if '嗨' and '你好' in event.message.text:\n",
    "      reply_hello=[]\n",
    "      reply_hello.append(TextSendMessage(text='哼!怎麼現在才來找我...大笨蛋'))\n",
    "      reply_hello.append(TextSendMessage(text='找我有什麼事嗎'))\n",
    "      line_bot_api.reply_message(event.reply_token,reply_hello)\n",
    "    elif '拜託' in event.message.text:\n",
    "      reply_please=[]\n",
    "      reply_please.append(TextSendMessage(text=random.choice(['才不是特別為你做的呢!','只有你...才可以命令我','果然沒有我你是不行的嘛!'])))\n",
    "      line_bot_api.reply_message(event.reply_token,reply_please)\n",
    "    elif '可愛' in event.message.text:\n",
    "      reply_cute=[]\n",
    "      reply_cute.append(TextSendMessage(text=random.choice(['笨...笨蛋','不用你說我也是知道的!','真...真的嗎...少囉嗦!'])))\n",
    "      line_bot_api.reply_message(event.reply_token,reply_cute)\n",
    "    elif '功能' in event.message.text:\n",
    "      reply_menu=[]\n",
    "      reply_menu.append(TextSendMessage(text='看來你還是需要我的嘛...\\n1.輸入地區即可探索美食\\n2.輸入文字雲就能知道哪種食物現在最受歡迎\\n3.想知道胖次的顏色\\n4.想知道胖次的款式\\n5.想知道我是誰\\n6.想知道我的年齡\\n7.想知道我的生日\\n8.想知道我的興趣\\n9.想跟我告白\\n10.想知道當前時間\\n11.想知道現在的天氣'))\n",
    "      line_bot_api.reply_message(event.reply_token,reply_menu)\n",
    "    elif '食物' in event.message.text[:2]:\n",
    "      Location=event.message.text[3:]\n",
    "      Location=Location.replace('臺','台')\n",
    "      # ress=get_food(Location)\n",
    "      # line_bot_api.reply_message(event.reply_token,TextSendMessage(text=ress))\n",
    "      if not any(local in Location for local in Locations):\n",
    "        line_bot_api.reply_message(event.reply_token,TextSendMessage(text=\"查詢格式為: 食物 縣市\"))\n",
    "      else:\n",
    "        get_food(Location)\n",
    "        ress1=Total  \n",
    "        print(ress1)     \n",
    "        line_bot_api.reply_message(event.reply_token,TextSendMessage(text=ress1))\n",
    "        ress2=Total2   \n",
    "        print(ress2)    \n",
    "        line_bot_api.reply_message(event.reply_token,TextSendMessage(text=ress2))\n",
    "        ress3=Total3 \n",
    "        print(ress3)     \n",
    "        line_bot_api.reply_message(event.reply_token,TextSendMessage(text=ress3))\n",
    "        ress4=Total4\n",
    "        print(ress4)       \n",
    "        line_bot_api.reply_message(event.reply_token,TextSendMessage(text=ress4))\n",
    "    elif '胖次' and '顏色' in event.message.text:\n",
    "      reply_underwear=[]\n",
    "      reply_underwear.append(TextSendMessage(text=random.choice(['粉紅色','白色','黃色','黑色','紫色','裸色'])))\n",
    "      line_bot_api.reply_message(event.reply_token,reply_underwear)\n",
    "    elif '胖次' and '款式' in event.message.text:\n",
    "      reply_style=[]\n",
    "      reply_style.append(TextSendMessage(text=random.choice(['蕾絲丁字褲','安全褲','沒有穿哦','三角褲'])))\n",
    "      line_bot_api.reply_message(event.reply_token,reply_style)\n",
    "    elif '誰' in event.message.text:\n",
    "      reply_bac=[]\n",
    "      reply_bac.append(TextSendMessage(text='我是死神的第一大弟子,但是因為現代的醫學發達使我很難再難收割到人類的靈魂...只能靠萌..萌死人'))\n",
    "      line_bot_api.reply_message(event.reply_token,reply_bac)\n",
    "    elif '年齡' in event.message.text:\n",
    "      reply_age=[]\n",
    "      reply_age.append(TextSendMessage(text='哼!沒禮貌,但...你的話我是可以告訴你哦,由於是在時間出現之前已經存在的關係,因此年齡是「沒有」'))\n",
    "      line_bot_api.reply_message(event.reply_token,reply_age)\n",
    "    elif '生日' in event.message.text:\n",
    "      reply_bir=[]\n",
    "      reply_bir.append(TextSendMessage(text='4月4日...到時候一定要...幫我慶祝!'))\n",
    "      line_bot_api.reply_message(event.reply_token,reply_bir)\n",
    "    elif '興趣' in event.message.text:\n",
    "      reply_inter=[]\n",
    "      reply_inter.append(TextSendMessage(text='熱愛殺人,黑暗,RAP,黑道電影,紅酒和甜食,最討厭咖啡,人群,醫院和哈蜜瓜...一定要記得哦!'))\n",
    "      line_bot_api.reply_message(event.reply_token,reply_inter)\n",
    "    elif '喜歡妳' in event.message.text:\n",
    "      reply_inter=[]\n",
    "      reply_inter.append(TextSendMessage(text='全世界我最討♂厭♀你了...才怪...笨蛋'))\n",
    "      line_bot_api.reply_message(event.reply_token,reply_inter)\n",
    "    elif '幾點' in event.message.text:\n",
    "      reply_time=[]\n",
    "      reply_time.append(TextSendMessage(text=datetime.now(tz).strftime('這...這種問題,我當然知道,現在的時間是\\n%Y年%m月%d日%H:%M:%S')))\n",
    "      line_bot_api.reply_message(event.reply_token,reply_time)\n",
    "    elif '天氣' in event.message.text[:2]:\n",
    "      city=event.message.text[3:]\n",
    "      city=city.replace('台','臺')\n",
    "      if not (city in cities):\n",
    "        line_bot_api.reply_message(event.reply_token,TextSendMessage(text=\"查詢格式為: 天氣 縣市\"))\n",
    "      else:\n",
    "        res=get(city)\n",
    "        line_bot_api.reply_message(event.reply_token,TextSendMessage(text=res))\n",
    "    else:\n",
    "      for i in event.message.text:\n",
    "        reply_fail=[]\n",
    "        reply_fail.append(TextSendMessage(text='囉嗦...再講清楚一點...'))\n",
    "      line_bot_api.reply_message(event.reply_token,reply_fail)\n",
    "\n",
    "\n",
    "\n",
    "# \n",
    "import os\n",
    "if __name__ == \"__main__\":\n",
    "    app.run()"
   ]
  },
  {
   "cell_type": "code",
   "execution_count": null,
   "metadata": {
    "collapsed": true,
    "id": "EK1MRtZbSpJf"
   },
   "outputs": [],
   "source": [
    "# import requests\n",
    "# from bs4 import BeautifulSoup\n",
    "# #輸入地區\n",
    "# Location = str(input())\n",
    "\n",
    "# Website = \"https://ifoodie.tw\"\n",
    "\n",
    "# #獲取連結\n",
    "# Link = list()\n",
    "# #獲取店家名稱\n",
    "# Name = list()\n",
    "# #獲取圖片\n",
    "# Photo = list()\n",
    "# #獲取評分\n",
    "# Rate = list()\n",
    "# #均消\n",
    "# Price = list()\n",
    "# #評論\n",
    "# Comment = list()\n",
    "# #營業時間\n",
    "# Time = list()\n",
    "# #地址\n",
    "# Address = list()\n",
    "# #分類(文字雲用)\n",
    "# Category = [list() for i in range(15)]\n",
    "\n",
    "# Cnum = 0\n",
    "# #網站bug修復\n",
    "# a = 0\n",
    "# #整合\n",
    "# Total = str()\n",
    "# response = requests.get(\n",
    "#     \"https://ifoodie.tw/explore/\"+Location+\"/list\")\n",
    "# soup = BeautifulSoup(response.text, \"html.parser\")\n",
    "# Content = soup.find(\"div\", class_=\"jsx-3908823019 item-list\")\n",
    "# List = Content.find_all(\"div\", class_=\"jsx-1776651079 restaurant-info\")\n",
    "# for k in List:\n",
    "#   # print(k)\n",
    "#   Link.append(Website+k.find(\"a\").get(\"href\"))\n",
    "#   Name.append(k.find(\"img\")[\"alt\"])\n",
    "#   if(a<=1):\n",
    "#     Photo.append(k.find(\"img\")[\"src\"])\n",
    "#   else:\n",
    "#     Photo.append(k.find(\"img\")[\"data-src\"])\n",
    "#    if(k.find(\"div\", class_=\"jsx-1207467136 text\")):\n",
    "    #   Rate.append(k.find(\"div\", class_=\"jsx-1207467136 text\").getText()) \n",
    "    #else:\n",
    "    #   Rate.append(\"無評分\")\n",
    "#   if (k.find(\"div\", class_=\"jsx-1776651079 avg-price\")):\n",
    "#     Price.append(k.find(\"div\", class_=\"jsx-1776651079 avg-price\").text)   \n",
    "#   else:\n",
    "#     Price.append(\"無資訊\")\n",
    "#   Comment.append(Website+k.find(\"a\", class_=\"jsx-1776651079 review-count\").get(\"href\"))\n",
    "#   tmp = k.find(\"div\", class_=\"jsx-1776651079 info\").getText()\n",
    "#   Time.append(tmp)\n",
    "#   Address.append(k.find(\"div\", class_=\"jsx-1776651079 address-row\").getText())\n",
    "#   for i in k.find_all(\"a\", class_=\"jsx-1776651079 category\"):\n",
    "#     if(i.getText()==\"附近餐廳\"):\n",
    "#       continue\n",
    "#     Category[Cnum].append(i.getText())\n",
    "    \n",
    "#   Cnum += 1\n",
    "#   a += 1\n",
    "# for i in range(0,15):\n",
    "#   num = i + 1\n",
    "#   category = str(Category[i])\n",
    "#   category = category.replace(\"[\",\"\")\n",
    "#   category = category.replace(\"]\",\"\")\n",
    "#   category = category.replace(\"'\",\"\")\n",
    "#   Total = Total+str(num)+\".\"+str(Name[i])+\"(\"+category+\")\"+\"\\n\"+\"網站連結:\"+str(Link[i])+\"\\n\"+\"圖片連結:\"+str(Photo[i])+\"\\n\"+\"評分:\"+str(Rate[i])+\"/5\"+\"\\n\"+\"均消:\"+str(Price[i])+\"\\n\"+\"評論連結:\"+str(Comment[i])+\"\\n\"+\"營業狀態:\"+str(Time[i])+\"\\n\"+\"地址:\"+str(Address[i])+\"\\n\"\n",
    "  \n",
    "# print(Total)"
   ]
  },
  {
   "cell_type": "code",
   "execution_count": null,
   "metadata": {
    "collapsed": true,
    "id": "GwoEWnnbSyND"
   },
   "outputs": [],
   "source": [
    "# 食物分類文字雲\n",
    "%matplotlib inline\n",
    "import matplotlib.pyplot as plt\n",
    "from wordcloud import WordCloud\n",
    "from PIL import Image\n",
    "import jieba\n",
    "import numpy as np\n",
    "file = open('Category.txt','w');\n",
    "\n",
    "file.write(str(Category));\n",
    "\n",
    "file.close()\n",
    "\n",
    "font = \"/content/drive/MyDrive/Colab Notebooks/NotoSerifCJKtc-Black.otf\"\n",
    "text = open('Category.txt', 'r', encoding='utf-8').read()\n",
    "# 設定使用 big5 斷詞\n",
    "jieba.set_dictionary(\"/content/drive/MyDrive/Colab Notebooks/dict.txt.big.txt\")\n",
    "wordlist = jieba.cut(text)\n",
    "words = \" \".join(wordlist)\n",
    "\n",
    "#背景顏色預設黑色，改為白色、使用指定字體\n",
    "my_wordcloud = WordCloud(background_color='white',font_path=font).generate(words)\n",
    "\n",
    "plt.imshow(my_wordcloud)\n",
    "plt.axis(\"off\")\n",
    "plt.show()\n",
    "#存檔\n",
    "my_wordcloud.to_file('word_cloud.png')"
   ]
  }
 ],
 "metadata": {
  "colab": {
   "collapsed_sections": [],
   "name": "聊天機器人.ipynb",
   "provenance": []
  },
  "kernelspec": {
   "display_name": "Python 3",
   "language": "python",
   "name": "python3"
  },
  "language_info": {
   "codemirror_mode": {
    "name": "ipython",
    "version": 3
   },
   "file_extension": ".py",
   "mimetype": "text/x-python",
   "name": "python",
   "nbconvert_exporter": "python",
   "pygments_lexer": "ipython3",
   "version": "3.6.1"
  }
 },
 "nbformat": 4,
 "nbformat_minor": 1
}
